{
 "cells": [
  {
   "cell_type": "code",
   "execution_count": 1,
   "metadata": {},
   "outputs": [],
   "source": [
    "# import the necessary packages\r\n",
    "import numpy as np\r\n",
    "import cv2\r\n",
    "import matplotlib.pyplot as plt"
   ]
  },
  {
   "cell_type": "code",
   "execution_count": 13,
   "metadata": {},
   "outputs": [],
   "source": [
    "opencascade = cv2.CascadeClassifier(cv2.data.haarcascades + 'haarcascade_frontalface_default.xml')\r\n",
    "\r\n",
    "def find_and_blur(bw, color): \r\n",
    "    # detect al faces\r\n",
    "    faces = opencascade.detectMultiScale(bw, 1.1, 4)\r\n",
    "    # get the locations of the faces\r\n",
    "    for (x, y, w, h) in faces:\r\n",
    "        # select the areas where the face was found\r\n",
    "        roi_color = color[y:y+h, x:x+w]\r\n",
    "        # blur the colored image\r\n",
    "        blur = cv2.GaussianBlur(roi_color, (201,201), 0)\r\n",
    "        # Insert ROI back into image\r\n",
    "        color[y:y+h, x:x+w] = blur            \r\n",
    "    \r\n",
    "    # return the blurred image\r\n",
    "    return color\r\n",
    "\r\n",
    "# turn camera on\r\n",
    "video_capture = cv2.VideoCapture(0)\r\n",
    "\r\n",
    "while True:\r\n",
    "    # get last recorded frame\r\n",
    "    _, color = video_capture.read()\r\n",
    "    # transform color -> grayscale\r\n",
    "    bw = cv2.cvtColor(color, cv2.COLOR_BGR2GRAY)\r\n",
    "    # detect the face and blur it\r\n",
    "    blur = find_and_blur(bw, color)\r\n",
    "    # display output\r\n",
    "    cv2.imshow('Video', blur)\r\n",
    "    # break if q is pressed\r\n",
    "    if cv2.waitKey(1) & 0xFF == ord('q'):\r\n",
    "        break"
   ]
  },
  {
   "cell_type": "code",
   "execution_count": 14,
   "metadata": {},
   "outputs": [],
   "source": [
    "# turn camera off        \r\n",
    "video_capture.release()\r\n",
    "# close camera  window\r\n",
    "cv2.destroyAllWindows()"
   ]
  },
  {
   "cell_type": "code",
   "execution_count": null,
   "metadata": {},
   "outputs": [],
   "source": []
  }
 ],
 "metadata": {
  "kernelspec": {
   "display_name": "Python 3.8.5  ('.venv': venv)",
   "metadata": {
    "interpreter": {
     "hash": "c13cd1958f5896841fb5191b103d351b51dba5dda8fc10a7617b5f2f9879780c"
    }
   },
   "name": "python3"
  },
  "language_info": {
   "codemirror_mode": {
    "name": "ipython",
    "version": 3
   },
   "file_extension": ".py",
   "mimetype": "text/x-python",
   "name": "python",
   "nbconvert_exporter": "python",
   "pygments_lexer": "ipython3",
   "version": "3.8.7"
  },
  "orig_nbformat": 2
 },
 "nbformat": 4,
 "nbformat_minor": 2
}